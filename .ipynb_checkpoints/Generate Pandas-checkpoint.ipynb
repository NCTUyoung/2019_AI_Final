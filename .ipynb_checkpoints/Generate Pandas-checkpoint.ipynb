{
 "cells": [
  {
   "cell_type": "code",
   "execution_count": 1,
   "metadata": {},
   "outputs": [],
   "source": [
    "import pandas as pd"
   ]
  },
  {
   "cell_type": "code",
   "execution_count": 2,
   "metadata": {},
   "outputs": [],
   "source": [
    "phone_list = ['blackberry','iphone','sony']\n"
   ]
  },
  {
   "cell_type": "code",
   "execution_count": 3,
   "metadata": {},
   "outputs": [],
   "source": [
    "import os"
   ]
  },
  {
   "cell_type": "code",
   "execution_count": 11,
   "metadata": {},
   "outputs": [
    {
     "name": "stdout",
     "output_type": "stream",
     "text": [
      "low res image :  139243\n",
      "high res image : 139243\n",
      "low res image :  139243\n",
      "high res image : 139243\n",
      "low res image :  139243\n",
      "high res image : 139243\n"
     ]
    }
   ],
   "source": [
    "for i in range(3):\n",
    "    image_lowres_list = []\n",
    "    image_highres_list = []\n",
    "    for dirPath, dirNames, fileNames in os.walk('/home/jimmyyoung/dataset/dped/{}/training_data/{}'.format(phone_list[i],phone_list[0])):\n",
    "        for file in fileNames:\n",
    "            name = os.path.join(dirPath,file)\n",
    "            image_lowres_list.append(name)\n",
    "            \n",
    "    image_lowres_list.sort()\n",
    "    \n",
    "    \n",
    "    for dirPath, dirNames, fileNames in os.walk('/home/jimmyyoung/dataset/dped/{}/training_data/canon'.format(phone_list[i])):\n",
    "        for file in fileNames:\n",
    "            name = os.path.join(dirPath,file)\n",
    "            image_highres_list.append(name)\n",
    "            \n",
    "    image_highres_list.sort()\n",
    "    \n",
    "    \n",
    "    print('low res image :  {}'.format(len(image_lowres_list)))\n",
    "    print('high res image : {}'.format(len(image_highres_list)))\n",
    "    \n",
    "    data_list = {\n",
    "        'high':image_highres_list,\n",
    "        'low':image_lowres_list\n",
    "    }\n",
    "    df = pd.DataFrame(data_list)\n",
    "    df.to_pickle('{}.pkl'.format(phone_list[i]))"
   ]
  },
  {
   "cell_type": "code",
   "execution_count": 9,
   "metadata": {},
   "outputs": [],
   "source": []
  },
  {
   "cell_type": "code",
   "execution_count": 10,
   "metadata": {},
   "outputs": [],
   "source": []
  },
  {
   "cell_type": "code",
   "execution_count": null,
   "metadata": {},
   "outputs": [],
   "source": []
  },
  {
   "cell_type": "code",
   "execution_count": null,
   "metadata": {},
   "outputs": [],
   "source": [
    "image_full = []\n",
    "\n",
    "for dirPath, dirNames, fileNames in os.walk('/home/jimmyyoung/dataset/hires/'):\n",
    "    for file in fileNames:\n",
    "        name = os.path.join(dirPath,file)\n",
    "        image_full.append(name)\n",
    "        \n",
    "image_full.sort()\n",
    "\n",
    "\n",
    "\n",
    "\n",
    "\n",
    "print('image_full image :  {}'.format(len(image_full)))\n"
   ]
  },
  {
   "cell_type": "code",
   "execution_count": null,
   "metadata": {},
   "outputs": [],
   "source": [
    "image_fill_dict = {\n",
    "    'dir':image_full\n",
    "}\n",
    "df_full = pd.DataFrame(image_fill_dict)\n",
    "\n",
    "\n",
    "\n",
    "df_full.to_pickle('image_full.pkl')\n",
    "\n"
   ]
  },
  {
   "cell_type": "code",
   "execution_count": null,
   "metadata": {},
   "outputs": [],
   "source": [
    "df_full\n"
   ]
  },
  {
   "cell_type": "code",
   "execution_count": null,
   "metadata": {},
   "outputs": [],
   "source": []
  }
 ],
 "metadata": {
  "kernelspec": {
   "display_name": "Python 3",
   "language": "python",
   "name": "python3"
  },
  "language_info": {
   "codemirror_mode": {
    "name": "ipython",
    "version": 3
   },
   "file_extension": ".py",
   "mimetype": "text/x-python",
   "name": "python",
   "nbconvert_exporter": "python",
   "pygments_lexer": "ipython3",
   "version": "3.5.2"
  }
 },
 "nbformat": 4,
 "nbformat_minor": 2
}
