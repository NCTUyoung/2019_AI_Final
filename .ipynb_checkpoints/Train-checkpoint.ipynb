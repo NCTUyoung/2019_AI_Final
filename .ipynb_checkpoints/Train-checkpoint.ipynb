{
 "cells": [
  {
   "cell_type": "code",
   "execution_count": 8,
   "metadata": {},
   "outputs": [],
   "source": [
    "import torch\n",
    "from torchvision import models\n",
    "import torch.nn.functional as F\n",
    "from net.unet_model import UNet \n",
    "import numpy as np"
   ]
  },
  {
   "cell_type": "code",
   "execution_count": 42,
   "metadata": {},
   "outputs": [],
   "source": [
    "from torch.nn import functional as F\n",
    "import tqdm\n",
    "import torchvision\n",
    "import torchvision.utils as vutils"
   ]
  },
  {
   "cell_type": "code",
   "execution_count": 9,
   "metadata": {},
   "outputs": [],
   "source": [
    "device = 'cuda:2' if torch.cuda.is_available() else 'cpu'"
   ]
  },
  {
   "cell_type": "code",
   "execution_count": null,
   "metadata": {},
   "outputs": [],
   "source": []
  },
  {
   "cell_type": "markdown",
   "metadata": {},
   "source": [
    "### Test Sample"
   ]
  },
  {
   "cell_type": "code",
   "execution_count": 10,
   "metadata": {},
   "outputs": [],
   "source": [
    "input =  torch.from_numpy(np.random.rand(1,3,255,255).astype(np.float32)).to(device)\n"
   ]
  },
  {
   "cell_type": "code",
   "execution_count": 11,
   "metadata": {},
   "outputs": [],
   "source": [
    "from torch.utils.data import Dataset ,DataLoader"
   ]
  },
  {
   "cell_type": "markdown",
   "metadata": {},
   "source": [
    "### Pandas load train dataframe\n"
   ]
  },
  {
   "cell_type": "code",
   "execution_count": 12,
   "metadata": {},
   "outputs": [],
   "source": [
    "import pandas as pd\n",
    "import matplotlib.pylab as plt"
   ]
  },
  {
   "cell_type": "code",
   "execution_count": 38,
   "metadata": {},
   "outputs": [],
   "source": [
    "df_blackberry  = pd.read_pickle('blackberry.pkl')\n",
    "df_iphone  = pd.read_pickle('iphone.pkl')\n",
    "df_sony  = pd.read_pickle('sony.pkl')\n",
    "\n",
    "\n",
    "df  = pd.concat([df_blackberry,df_iphone,df_sony],sort=True,ignore_index=True)\n",
    "df_full = pd.read_pickle('image_full.pkl')"
   ]
  },
  {
   "cell_type": "code",
   "execution_count": 41,
   "metadata": {},
   "outputs": [
    {
     "data": {
      "text/html": [
       "<div>\n",
       "<style scoped>\n",
       "    .dataframe tbody tr th:only-of-type {\n",
       "        vertical-align: middle;\n",
       "    }\n",
       "\n",
       "    .dataframe tbody tr th {\n",
       "        vertical-align: top;\n",
       "    }\n",
       "\n",
       "    .dataframe thead th {\n",
       "        text-align: right;\n",
       "    }\n",
       "</style>\n",
       "<table border=\"1\" class=\"dataframe\">\n",
       "  <thead>\n",
       "    <tr style=\"text-align: right;\">\n",
       "      <th></th>\n",
       "      <th>high</th>\n",
       "      <th>low</th>\n",
       "    </tr>\n",
       "  </thead>\n",
       "  <tbody>\n",
       "    <tr>\n",
       "      <th>0</th>\n",
       "      <td>/home/jimmyyoung/dataset/dped/blackberry/train...</td>\n",
       "      <td>/home/jimmyyoung/dataset/dped/blackberry/train...</td>\n",
       "    </tr>\n",
       "    <tr>\n",
       "      <th>1</th>\n",
       "      <td>/home/jimmyyoung/dataset/dped/blackberry/train...</td>\n",
       "      <td>/home/jimmyyoung/dataset/dped/blackberry/train...</td>\n",
       "    </tr>\n",
       "    <tr>\n",
       "      <th>2</th>\n",
       "      <td>/home/jimmyyoung/dataset/dped/blackberry/train...</td>\n",
       "      <td>/home/jimmyyoung/dataset/dped/blackberry/train...</td>\n",
       "    </tr>\n",
       "    <tr>\n",
       "      <th>3</th>\n",
       "      <td>/home/jimmyyoung/dataset/dped/blackberry/train...</td>\n",
       "      <td>/home/jimmyyoung/dataset/dped/blackberry/train...</td>\n",
       "    </tr>\n",
       "    <tr>\n",
       "      <th>4</th>\n",
       "      <td>/home/jimmyyoung/dataset/dped/blackberry/train...</td>\n",
       "      <td>/home/jimmyyoung/dataset/dped/blackberry/train...</td>\n",
       "    </tr>\n",
       "  </tbody>\n",
       "</table>\n",
       "</div>"
      ],
      "text/plain": [
       "                                                high  \\\n",
       "0  /home/jimmyyoung/dataset/dped/blackberry/train...   \n",
       "1  /home/jimmyyoung/dataset/dped/blackberry/train...   \n",
       "2  /home/jimmyyoung/dataset/dped/blackberry/train...   \n",
       "3  /home/jimmyyoung/dataset/dped/blackberry/train...   \n",
       "4  /home/jimmyyoung/dataset/dped/blackberry/train...   \n",
       "\n",
       "                                                 low  \n",
       "0  /home/jimmyyoung/dataset/dped/blackberry/train...  \n",
       "1  /home/jimmyyoung/dataset/dped/blackberry/train...  \n",
       "2  /home/jimmyyoung/dataset/dped/blackberry/train...  \n",
       "3  /home/jimmyyoung/dataset/dped/blackberry/train...  \n",
       "4  /home/jimmyyoung/dataset/dped/blackberry/train...  "
      ]
     },
     "execution_count": 41,
     "metadata": {},
     "output_type": "execute_result"
    }
   ],
   "source": [
    "df.head()"
   ]
  },
  {
   "cell_type": "code",
   "execution_count": null,
   "metadata": {},
   "outputs": [],
   "source": [
    "from PIL import Image\n",
    "class ImageEnhanceDataset(Dataset):\n",
    "    def __init__(self,df,transform=None):\n",
    "        self.df = df\n",
    "        self.transform = transform\n",
    "    def __len__(self):\n",
    "        return len(self.df)\n",
    "    def __getitem__(self,index):\n",
    "        high_image_dir = self.df.iloc[index]['high']\n",
    "        low_image_dir = self.df.iloc[index]['low']\n",
    "        \n",
    "        high_image = Image.open(high_image_dir).convert('RGB')\n",
    "        low_image = Image.open(low_image_dir).convert('RGB')\n",
    "        \n",
    "        high_image , low_image = ToTensor_center(high_image),ToTensor_Dark(low_image)\n",
    "        \n",
    "\n",
    "        return {'high':high_image,'low':low_image}\n",
    "    \n",
    "class ImageFulleDataset(Dataset):\n",
    "    def __init__(self,df,transform=None):\n",
    "        self.df = df\n",
    "        self.transform = transform\n",
    "    def __len__(self):\n",
    "        return len(self.df)\n",
    "    def __getitem__(self,index):\n",
    "        idx = np.random.randint(0,len(self.df))\n",
    "        image_dir = self.df.iloc[idx]['dir']\n",
    "        \n",
    "        image = Image.open(image_dir).convert('RGB')\n",
    "\n",
    "        \n",
    "        \n",
    "\n",
    "        return {'label':ToTensor_Full(image),'input':ToTensor_Full_input(image)}"
   ]
  },
  {
   "cell_type": "markdown",
   "metadata": {},
   "source": [
    "### Dataset"
   ]
  },
  {
   "cell_type": "code",
   "execution_count": null,
   "metadata": {},
   "outputs": [],
   "source": [
    "dataset = ImageEnhanceDataset(df)\n",
    "dataset_full = ImageFulleDataset(df_full)"
   ]
  },
  {
   "cell_type": "markdown",
   "metadata": {},
   "source": [
    "### Transform  and Loss"
   ]
  },
  {
   "cell_type": "code",
   "execution_count": null,
   "metadata": {},
   "outputs": [],
   "source": [
    "ToTensor_Dark = torchvision.transforms.Compose([torchvision.transforms.CenterCrop(96),\n",
    "                                                torchvision.transforms.ColorJitter(brightness=0.3, contrast=0.2, saturation=0.3, hue=0.05),\n",
    "                                                torchvision.transforms.Lambda(lambda crops: torchvision.transforms.functional.adjust_brightness(img=crops,brightness_factor=np.random.uniform(0.5,1))),\n",
    "                                           torchvision.transforms.Lambda(lambda crops: torchvision.transforms.functional.adjust_gamma(img=crops,gain=1,gamma=np.random.uniform(1,2))),\n",
    "                            torchvision.transforms.Lambda(lambda crops: torchvision.transforms.functional.adjust_contrast(img=crops,contrast_factor=np.random.uniform(0.2,0.8))),\n",
    "                                           torchvision.transforms.ToTensor()])\n",
    "\n",
    "ToTensor_center = torchvision.transforms.Compose([torchvision.transforms.CenterCrop(96),\n",
    "                                           torchvision.transforms.ToTensor()])\n",
    "\n",
    "ToTensor_Test = torchvision.transforms.Compose([torchvision.transforms.CenterCrop((800,1184)),\n",
    "                                           torchvision.transforms.ToTensor()])\n",
    "\n",
    "ToTensor = torchvision.transforms.Compose([torchvision.transforms.ToTensor()])\n",
    "\n",
    "ToTensor_Full_input = torchvision.transforms.Compose([torchvision.transforms.CenterCrop((512,1024)),\n",
    "                                                torchvision.transforms.ColorJitter(brightness=0.5, contrast=0.2, saturation=0.3, hue=0.05),\n",
    "                                                torchvision.transforms.Lambda(lambda crops: torchvision.transforms.functional.adjust_gamma(img=crops,gain=1,gamma=np.random.uniform(0.7,2.5))),\n",
    "                                            torchvision.transforms.Resize((128,256)),\n",
    "                                           torchvision.transforms.ToTensor()])\n",
    "\n",
    "ToTensor_Full = torchvision.transforms.Compose([torchvision.transforms.CenterCrop((512,1024)),\n",
    "                                            torchvision.transforms.Resize((128,256)),\n",
    "                                           torchvision.transforms.ToTensor()])"
   ]
  },
  {
   "cell_type": "markdown",
   "metadata": {},
   "source": [
    "### Optimizaer Loss"
   ]
  },
  {
   "cell_type": "code",
   "execution_count": null,
   "metadata": {},
   "outputs": [],
   "source": [
    "L1loss = torch.nn.L1Loss(reduction='mean')\n",
    "MSEloss_sum = torch.nn.MSELoss(reduction='mean')\n",
    "\n",
    "optimizer = torch.optim.Adam(model.parameters())"
   ]
  },
  {
   "cell_type": "code",
   "execution_count": null,
   "metadata": {},
   "outputs": [],
   "source": [
    "model = UNet(n_channels=3,n_classes=3)\n",
    "model.to(device)"
   ]
  },
  {
   "cell_type": "code",
   "execution_count": null,
   "metadata": {},
   "outputs": [],
   "source": [
    "from tensorboardX import SummaryWriter\n",
    "writer = SummaryWriter()\n"
   ]
  },
  {
   "cell_type": "markdown",
   "metadata": {},
   "source": [
    "### Dataloader "
   ]
  },
  {
   "cell_type": "code",
   "execution_count": null,
   "metadata": {},
   "outputs": [],
   "source": [
    "dataloader = DataLoader(dataset, batch_size=16,\n",
    "                        shuffle=True, num_workers=4)\n"
   ]
  },
  {
   "cell_type": "markdown",
   "metadata": {},
   "source": [
    "### Train Loop"
   ]
  },
  {
   "cell_type": "code",
   "execution_count": null,
   "metadata": {
    "scrolled": true
   },
   "outputs": [],
   "source": [
    "num_image = len(df)\n",
    "num_batch = 10\n",
    "itercount = 0\n",
    "for b in range(num_batch):\n",
    "    for i,data in enumerate(dataloader):\n",
    "        \n",
    "        sample = data['low'].to(device)\n",
    "        label  = data['high'].to(device)\n",
    "        full = dataset_full[i]\n",
    "        full_label = full['label'].unsqueeze(0).to(device)\n",
    "        full_input = full['input'].unsqueeze(0).to(device)\n",
    "        \n",
    "        out = model(sample)\n",
    "        out_full = model(full_input)\n",
    "        \n",
    "\n",
    "        pixle_loss_patch = L1loss(out,label)\n",
    "        pixle_loss_full = L1loss(out_full,full_label)\n",
    "\n",
    "        loss =  pixle_loss_patch+pixle_loss\n",
    "        \n",
    "        \n",
    "        optimizer.zero_grad()\n",
    "        loss.backward()\n",
    "        optimizer.step()\n",
    "        itercount = itercount+1\n",
    "        \n",
    "        \n",
    "        if i%100==0:\n",
    "            x = torch.cat((sample,out,label),dim=0)\n",
    "            x = vutils.make_grid(x, normalize=True, scale_each=True)\n",
    "            writer.add_image('Sample : Out : Ground', x, itercount)\n",
    "\n",
    "            \n",
    "            y = torch.cat((full_input,out_full,full_label),dim=0)\n",
    "            y = vutils.make_grid(y, normalize=True, scale_each=True)\n",
    "            writer.add_image('Full', y, itercount)\n",
    "            \n",
    "            writer.add_scalar('data/pixel loss', pixle_loss.item(),itercount)\n",
    "            writer.add_scalar('data/pixel loss_patch', pixle_loss_patch.item(),itercount)\n",
    "            \n",
    "            im = Image.open('4.jpg').convert('RGB')\n",
    "            im = ToTensor_Test(im).unsqueeze(0).to(device)\n",
    "\n",
    "            sample = model(im)\n",
    "            x = vutils.make_grid(sample, normalize=True, scale_each=True)\n",
    "            writer.add_image('Test', x, itercount)"
   ]
  },
  {
   "cell_type": "code",
   "execution_count": null,
   "metadata": {},
   "outputs": [],
   "source": [
    "torch.save(model.state_dict(),'unet3.pt')"
   ]
  }
 ],
 "metadata": {
  "kernelspec": {
   "display_name": "Python 3",
   "language": "python",
   "name": "python3"
  },
  "language_info": {
   "codemirror_mode": {
    "name": "ipython",
    "version": 3
   },
   "file_extension": ".py",
   "mimetype": "text/x-python",
   "name": "python",
   "nbconvert_exporter": "python",
   "pygments_lexer": "ipython3",
   "version": "3.5.2"
  }
 },
 "nbformat": 4,
 "nbformat_minor": 2
}
