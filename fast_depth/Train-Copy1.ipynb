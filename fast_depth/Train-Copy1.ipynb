{
 "cells": [
  {
   "cell_type": "code",
   "execution_count": 1,
   "metadata": {},
   "outputs": [],
   "source": [
    "import torch\n",
    "import torch.nn as nn\n",
    "from torchvision import models\n",
    "import torch.nn.functional as F\n",
    "from models import MobileNetSkipConcat\n",
    "import numpy as np"
   ]
  },
  {
   "cell_type": "code",
   "execution_count": 2,
   "metadata": {},
   "outputs": [],
   "source": [
    "from torch.nn import functional as F\n",
    "import tqdm\n",
    "import torchvision\n",
    "import torchvision.utils as vutils"
   ]
  },
  {
   "cell_type": "code",
   "execution_count": 3,
   "metadata": {},
   "outputs": [],
   "source": [
    "device = 'cuda:3' if torch.cuda.is_available() else 'cpu'"
   ]
  },
  {
   "cell_type": "markdown",
   "metadata": {},
   "source": [
    "### Test Sample"
   ]
  },
  {
   "cell_type": "code",
   "execution_count": 4,
   "metadata": {},
   "outputs": [],
   "source": [
    "input =  torch.from_numpy(np.random.rand(1,3,255,255).astype(np.float32)).to(device)\n"
   ]
  },
  {
   "cell_type": "code",
   "execution_count": 5,
   "metadata": {},
   "outputs": [],
   "source": [
    "from torch.utils.data import Dataset ,DataLoader"
   ]
  },
  {
   "cell_type": "markdown",
   "metadata": {},
   "source": [
    "### Pandas load train dataframe\n"
   ]
  },
  {
   "cell_type": "code",
   "execution_count": 6,
   "metadata": {},
   "outputs": [],
   "source": [
    "import pandas as pd\n",
    "import matplotlib.pylab as plt"
   ]
  },
  {
   "cell_type": "code",
   "execution_count": 7,
   "metadata": {},
   "outputs": [],
   "source": [
    "df_blackberry  = pd.read_pickle('blackberry.pkl')\n",
    "df_iphone  = pd.read_pickle('iphone.pkl')\n",
    "df_sony  = pd.read_pickle('sony.pkl')\n",
    "\n",
    "\n",
    "df  = pd.concat([df_blackberry,df_iphone,df_sony],sort=True,ignore_index=True)\n",
    "df_full = pd.read_pickle('image_full.pkl')"
   ]
  },
  {
   "cell_type": "code",
   "execution_count": 8,
   "metadata": {},
   "outputs": [
    {
     "data": {
      "text/html": [
       "<div>\n",
       "<style scoped>\n",
       "    .dataframe tbody tr th:only-of-type {\n",
       "        vertical-align: middle;\n",
       "    }\n",
       "\n",
       "    .dataframe tbody tr th {\n",
       "        vertical-align: top;\n",
       "    }\n",
       "\n",
       "    .dataframe thead th {\n",
       "        text-align: right;\n",
       "    }\n",
       "</style>\n",
       "<table border=\"1\" class=\"dataframe\">\n",
       "  <thead>\n",
       "    <tr style=\"text-align: right;\">\n",
       "      <th></th>\n",
       "      <th>high</th>\n",
       "      <th>low</th>\n",
       "    </tr>\n",
       "  </thead>\n",
       "  <tbody>\n",
       "    <tr>\n",
       "      <th>0</th>\n",
       "      <td>/home/jimmyyoung/dataset/dped/blackberry/train...</td>\n",
       "      <td>/home/jimmyyoung/dataset/dped/blackberry/train...</td>\n",
       "    </tr>\n",
       "    <tr>\n",
       "      <th>1</th>\n",
       "      <td>/home/jimmyyoung/dataset/dped/blackberry/train...</td>\n",
       "      <td>/home/jimmyyoung/dataset/dped/blackberry/train...</td>\n",
       "    </tr>\n",
       "    <tr>\n",
       "      <th>2</th>\n",
       "      <td>/home/jimmyyoung/dataset/dped/blackberry/train...</td>\n",
       "      <td>/home/jimmyyoung/dataset/dped/blackberry/train...</td>\n",
       "    </tr>\n",
       "    <tr>\n",
       "      <th>3</th>\n",
       "      <td>/home/jimmyyoung/dataset/dped/blackberry/train...</td>\n",
       "      <td>/home/jimmyyoung/dataset/dped/blackberry/train...</td>\n",
       "    </tr>\n",
       "    <tr>\n",
       "      <th>4</th>\n",
       "      <td>/home/jimmyyoung/dataset/dped/blackberry/train...</td>\n",
       "      <td>/home/jimmyyoung/dataset/dped/blackberry/train...</td>\n",
       "    </tr>\n",
       "  </tbody>\n",
       "</table>\n",
       "</div>"
      ],
      "text/plain": [
       "                                                high  \\\n",
       "0  /home/jimmyyoung/dataset/dped/blackberry/train...   \n",
       "1  /home/jimmyyoung/dataset/dped/blackberry/train...   \n",
       "2  /home/jimmyyoung/dataset/dped/blackberry/train...   \n",
       "3  /home/jimmyyoung/dataset/dped/blackberry/train...   \n",
       "4  /home/jimmyyoung/dataset/dped/blackberry/train...   \n",
       "\n",
       "                                                 low  \n",
       "0  /home/jimmyyoung/dataset/dped/blackberry/train...  \n",
       "1  /home/jimmyyoung/dataset/dped/blackberry/train...  \n",
       "2  /home/jimmyyoung/dataset/dped/blackberry/train...  \n",
       "3  /home/jimmyyoung/dataset/dped/blackberry/train...  \n",
       "4  /home/jimmyyoung/dataset/dped/blackberry/train...  "
      ]
     },
     "execution_count": 8,
     "metadata": {},
     "output_type": "execute_result"
    }
   ],
   "source": [
    "df.head()"
   ]
  },
  {
   "cell_type": "code",
   "execution_count": 9,
   "metadata": {},
   "outputs": [],
   "source": [
    "from PIL import Image\n",
    "class ImageEnhanceDataset(Dataset):\n",
    "    def __init__(self,df,transform=None):\n",
    "        self.df = df\n",
    "        self.transform = transform\n",
    "    def __len__(self):\n",
    "        return len(self.df)\n",
    "    def __getitem__(self,index):\n",
    "        high_image_dir = self.df.iloc[index]['high']\n",
    "        low_image_dir = self.df.iloc[index]['low']\n",
    "        \n",
    "        high_image = Image.open(high_image_dir).convert('RGB')\n",
    "        low_image = Image.open(low_image_dir).convert('RGB')\n",
    "        \n",
    "        high_image , low_image = ToTensor_center(high_image),ToTensor_Dark(low_image)\n",
    "        \n",
    "\n",
    "        return {'high':high_image,'low':low_image}\n",
    "    \n",
    "class ImageFulleDataset(Dataset):\n",
    "    def __init__(self,df,transform=None):\n",
    "        self.df = df\n",
    "        self.transform = transform\n",
    "    def __len__(self):\n",
    "        return len(self.df)\n",
    "    def __getitem__(self,index):\n",
    "        idx = np.random.randint(0,len(self.df))\n",
    "        image_dir = self.df.iloc[idx]['dir']\n",
    "        \n",
    "        image = Image.open(image_dir).convert('RGB')\n",
    "\n",
    "        \n",
    "        \n",
    "\n",
    "        return {'label':ToTensor_Full(image),'input':ToTensor_Full_input(image)}"
   ]
  },
  {
   "cell_type": "markdown",
   "metadata": {},
   "source": [
    "### Dataset"
   ]
  },
  {
   "cell_type": "code",
   "execution_count": 10,
   "metadata": {},
   "outputs": [],
   "source": [
    "dataset = ImageEnhanceDataset(df)\n",
    "dataset_full = ImageFulleDataset(df_full)"
   ]
  },
  {
   "cell_type": "markdown",
   "metadata": {},
   "source": [
    "### Transform  and Loss"
   ]
  },
  {
   "cell_type": "code",
   "execution_count": 11,
   "metadata": {},
   "outputs": [],
   "source": [
    "ToTensor_Dark = torchvision.transforms.Compose([torchvision.transforms.CenterCrop(96),\n",
    "                                                torchvision.transforms.ColorJitter(brightness=0.1, contrast=0.1, saturation=0.1, hue=0.01),\n",
    "                                                torchvision.transforms.Lambda(lambda crops: torchvision.transforms.functional.adjust_brightness(img=crops,brightness_factor=np.random.uniform(0.5,1))),\n",
    "                                           torchvision.transforms.Lambda(lambda crops: torchvision.transforms.functional.adjust_gamma(img=crops,gain=1,gamma=np.random.uniform(1,1.5))),\n",
    "                            torchvision.transforms.Lambda(lambda crops: torchvision.transforms.functional.adjust_contrast(img=crops,contrast_factor=np.random.uniform(0.2,0.5))),\n",
    "                                           torchvision.transforms.ToTensor()])\n",
    "\n",
    "ToTensor_center = torchvision.transforms.Compose([torchvision.transforms.CenterCrop(96),\n",
    "                                           torchvision.transforms.ToTensor()])\n",
    "\n",
    "ToTensor_Test = torchvision.transforms.Compose([torchvision.transforms.CenterCrop((800,1184)),\n",
    "                                           torchvision.transforms.ToTensor()])\n",
    "\n",
    "ToTensor = torchvision.transforms.Compose([torchvision.transforms.ToTensor()])\n",
    "\n",
    "ToTensor_Full_input = torchvision.transforms.Compose([torchvision.transforms.CenterCrop((512,1024)),\n",
    "                                                torchvision.transforms.ColorJitter(brightness=0.1, contrast=0.1, saturation=0.1, hue=0.01),\n",
    "                                                torchvision.transforms.Lambda(lambda crops: torchvision.transforms.functional.adjust_gamma(img=crops,gain=1,gamma=np.random.uniform(0.7,2.0))),\n",
    "                                            torchvision.transforms.Resize((128,256)),\n",
    "                                           torchvision.transforms.ToTensor()])\n",
    "\n",
    "ToTensor_Full = torchvision.transforms.Compose([torchvision.transforms.CenterCrop((512,1024)),\n",
    "                                            torchvision.transforms.Resize((128,256)),\n",
    "                                           torchvision.transforms.ToTensor()])"
   ]
  },
  {
   "cell_type": "code",
   "execution_count": 12,
   "metadata": {},
   "outputs": [
    {
     "data": {
      "text/plain": [
       "MobileNetSkipConcat(\n",
       "  (conv0): Sequential(\n",
       "    (0): Conv2d(3, 32, kernel_size=(3, 3), stride=(2, 2), padding=(1, 1), bias=False)\n",
       "    (1): BatchNorm2d(32, eps=1e-05, momentum=0.1, affine=True, track_running_stats=True)\n",
       "    (2): ReLU6(inplace)\n",
       "  )\n",
       "  (conv1): Sequential(\n",
       "    (0): Conv2d(32, 32, kernel_size=(3, 3), stride=(1, 1), padding=(1, 1), groups=32, bias=False)\n",
       "    (1): BatchNorm2d(32, eps=1e-05, momentum=0.1, affine=True, track_running_stats=True)\n",
       "    (2): ReLU6(inplace)\n",
       "    (3): Conv2d(32, 64, kernel_size=(1, 1), stride=(1, 1), bias=False)\n",
       "    (4): BatchNorm2d(64, eps=1e-05, momentum=0.1, affine=True, track_running_stats=True)\n",
       "    (5): ReLU6(inplace)\n",
       "  )\n",
       "  (conv2): Sequential(\n",
       "    (0): Conv2d(64, 64, kernel_size=(3, 3), stride=(2, 2), padding=(1, 1), groups=64, bias=False)\n",
       "    (1): BatchNorm2d(64, eps=1e-05, momentum=0.1, affine=True, track_running_stats=True)\n",
       "    (2): ReLU6(inplace)\n",
       "    (3): Conv2d(64, 128, kernel_size=(1, 1), stride=(1, 1), bias=False)\n",
       "    (4): BatchNorm2d(128, eps=1e-05, momentum=0.1, affine=True, track_running_stats=True)\n",
       "    (5): ReLU6(inplace)\n",
       "  )\n",
       "  (conv3): Sequential(\n",
       "    (0): Conv2d(128, 128, kernel_size=(3, 3), stride=(1, 1), padding=(1, 1), groups=128, bias=False)\n",
       "    (1): BatchNorm2d(128, eps=1e-05, momentum=0.1, affine=True, track_running_stats=True)\n",
       "    (2): ReLU6(inplace)\n",
       "    (3): Conv2d(128, 128, kernel_size=(1, 1), stride=(1, 1), bias=False)\n",
       "    (4): BatchNorm2d(128, eps=1e-05, momentum=0.1, affine=True, track_running_stats=True)\n",
       "    (5): ReLU6(inplace)\n",
       "  )\n",
       "  (conv4): Sequential(\n",
       "    (0): Conv2d(128, 128, kernel_size=(3, 3), stride=(2, 2), padding=(1, 1), groups=128, bias=False)\n",
       "    (1): BatchNorm2d(128, eps=1e-05, momentum=0.1, affine=True, track_running_stats=True)\n",
       "    (2): ReLU6(inplace)\n",
       "    (3): Conv2d(128, 256, kernel_size=(1, 1), stride=(1, 1), bias=False)\n",
       "    (4): BatchNorm2d(256, eps=1e-05, momentum=0.1, affine=True, track_running_stats=True)\n",
       "    (5): ReLU6(inplace)\n",
       "  )\n",
       "  (conv5): Sequential(\n",
       "    (0): Conv2d(256, 256, kernel_size=(3, 3), stride=(1, 1), padding=(1, 1), groups=256, bias=False)\n",
       "    (1): BatchNorm2d(256, eps=1e-05, momentum=0.1, affine=True, track_running_stats=True)\n",
       "    (2): ReLU6(inplace)\n",
       "    (3): Conv2d(256, 256, kernel_size=(1, 1), stride=(1, 1), bias=False)\n",
       "    (4): BatchNorm2d(256, eps=1e-05, momentum=0.1, affine=True, track_running_stats=True)\n",
       "    (5): ReLU6(inplace)\n",
       "  )\n",
       "  (conv6): Sequential(\n",
       "    (0): Conv2d(256, 256, kernel_size=(3, 3), stride=(2, 2), padding=(1, 1), groups=256, bias=False)\n",
       "    (1): BatchNorm2d(256, eps=1e-05, momentum=0.1, affine=True, track_running_stats=True)\n",
       "    (2): ReLU6(inplace)\n",
       "    (3): Conv2d(256, 512, kernel_size=(1, 1), stride=(1, 1), bias=False)\n",
       "    (4): BatchNorm2d(512, eps=1e-05, momentum=0.1, affine=True, track_running_stats=True)\n",
       "    (5): ReLU6(inplace)\n",
       "  )\n",
       "  (conv7): Sequential(\n",
       "    (0): Conv2d(512, 512, kernel_size=(3, 3), stride=(1, 1), padding=(1, 1), groups=512, bias=False)\n",
       "    (1): BatchNorm2d(512, eps=1e-05, momentum=0.1, affine=True, track_running_stats=True)\n",
       "    (2): ReLU6(inplace)\n",
       "    (3): Conv2d(512, 512, kernel_size=(1, 1), stride=(1, 1), bias=False)\n",
       "    (4): BatchNorm2d(512, eps=1e-05, momentum=0.1, affine=True, track_running_stats=True)\n",
       "    (5): ReLU6(inplace)\n",
       "  )\n",
       "  (conv8): Sequential(\n",
       "    (0): Conv2d(512, 512, kernel_size=(3, 3), stride=(1, 1), padding=(1, 1), groups=512, bias=False)\n",
       "    (1): BatchNorm2d(512, eps=1e-05, momentum=0.1, affine=True, track_running_stats=True)\n",
       "    (2): ReLU6(inplace)\n",
       "    (3): Conv2d(512, 512, kernel_size=(1, 1), stride=(1, 1), bias=False)\n",
       "    (4): BatchNorm2d(512, eps=1e-05, momentum=0.1, affine=True, track_running_stats=True)\n",
       "    (5): ReLU6(inplace)\n",
       "  )\n",
       "  (conv9): Sequential(\n",
       "    (0): Conv2d(512, 512, kernel_size=(3, 3), stride=(1, 1), padding=(1, 1), groups=512, bias=False)\n",
       "    (1): BatchNorm2d(512, eps=1e-05, momentum=0.1, affine=True, track_running_stats=True)\n",
       "    (2): ReLU6(inplace)\n",
       "    (3): Conv2d(512, 512, kernel_size=(1, 1), stride=(1, 1), bias=False)\n",
       "    (4): BatchNorm2d(512, eps=1e-05, momentum=0.1, affine=True, track_running_stats=True)\n",
       "    (5): ReLU6(inplace)\n",
       "  )\n",
       "  (conv10): Sequential(\n",
       "    (0): Conv2d(512, 512, kernel_size=(3, 3), stride=(1, 1), padding=(1, 1), groups=512, bias=False)\n",
       "    (1): BatchNorm2d(512, eps=1e-05, momentum=0.1, affine=True, track_running_stats=True)\n",
       "    (2): ReLU6(inplace)\n",
       "    (3): Conv2d(512, 512, kernel_size=(1, 1), stride=(1, 1), bias=False)\n",
       "    (4): BatchNorm2d(512, eps=1e-05, momentum=0.1, affine=True, track_running_stats=True)\n",
       "    (5): ReLU6(inplace)\n",
       "  )\n",
       "  (conv11): Sequential(\n",
       "    (0): Conv2d(512, 512, kernel_size=(3, 3), stride=(1, 1), padding=(1, 1), groups=512, bias=False)\n",
       "    (1): BatchNorm2d(512, eps=1e-05, momentum=0.1, affine=True, track_running_stats=True)\n",
       "    (2): ReLU6(inplace)\n",
       "    (3): Conv2d(512, 512, kernel_size=(1, 1), stride=(1, 1), bias=False)\n",
       "    (4): BatchNorm2d(512, eps=1e-05, momentum=0.1, affine=True, track_running_stats=True)\n",
       "    (5): ReLU6(inplace)\n",
       "  )\n",
       "  (conv12): Sequential(\n",
       "    (0): Conv2d(512, 512, kernel_size=(3, 3), stride=(2, 2), padding=(1, 1), groups=512, bias=False)\n",
       "    (1): BatchNorm2d(512, eps=1e-05, momentum=0.1, affine=True, track_running_stats=True)\n",
       "    (2): ReLU6(inplace)\n",
       "    (3): Conv2d(512, 1024, kernel_size=(1, 1), stride=(1, 1), bias=False)\n",
       "    (4): BatchNorm2d(1024, eps=1e-05, momentum=0.1, affine=True, track_running_stats=True)\n",
       "    (5): ReLU6(inplace)\n",
       "  )\n",
       "  (conv13): Sequential(\n",
       "    (0): Conv2d(1024, 1024, kernel_size=(3, 3), stride=(1, 1), padding=(1, 1), groups=1024, bias=False)\n",
       "    (1): BatchNorm2d(1024, eps=1e-05, momentum=0.1, affine=True, track_running_stats=True)\n",
       "    (2): ReLU6(inplace)\n",
       "    (3): Conv2d(1024, 1024, kernel_size=(1, 1), stride=(1, 1), bias=False)\n",
       "    (4): BatchNorm2d(1024, eps=1e-05, momentum=0.1, affine=True, track_running_stats=True)\n",
       "    (5): ReLU6(inplace)\n",
       "  )\n",
       "  (decode_conv1): Sequential(\n",
       "    (0): Sequential(\n",
       "      (0): Conv2d(1024, 1024, kernel_size=(5, 5), stride=(1, 1), padding=(2, 2), groups=1024, bias=False)\n",
       "      (1): BatchNorm2d(1024, eps=1e-05, momentum=0.1, affine=True, track_running_stats=True)\n",
       "      (2): ReLU(inplace)\n",
       "    )\n",
       "    (1): Sequential(\n",
       "      (0): Conv2d(1024, 512, kernel_size=(1, 1), stride=(1, 1), bias=False)\n",
       "      (1): BatchNorm2d(512, eps=1e-05, momentum=0.1, affine=True, track_running_stats=True)\n",
       "      (2): ReLU(inplace)\n",
       "    )\n",
       "  )\n",
       "  (decode_conv2): Sequential(\n",
       "    (0): Sequential(\n",
       "      (0): Conv2d(512, 512, kernel_size=(5, 5), stride=(1, 1), padding=(2, 2), groups=512, bias=False)\n",
       "      (1): BatchNorm2d(512, eps=1e-05, momentum=0.1, affine=True, track_running_stats=True)\n",
       "      (2): ReLU(inplace)\n",
       "    )\n",
       "    (1): Sequential(\n",
       "      (0): Conv2d(512, 256, kernel_size=(1, 1), stride=(1, 1), bias=False)\n",
       "      (1): BatchNorm2d(256, eps=1e-05, momentum=0.1, affine=True, track_running_stats=True)\n",
       "      (2): ReLU(inplace)\n",
       "    )\n",
       "  )\n",
       "  (decode_conv3): Sequential(\n",
       "    (0): Sequential(\n",
       "      (0): Conv2d(512, 512, kernel_size=(5, 5), stride=(1, 1), padding=(2, 2), groups=512, bias=False)\n",
       "      (1): BatchNorm2d(512, eps=1e-05, momentum=0.1, affine=True, track_running_stats=True)\n",
       "      (2): ReLU(inplace)\n",
       "    )\n",
       "    (1): Sequential(\n",
       "      (0): Conv2d(512, 128, kernel_size=(1, 1), stride=(1, 1), bias=False)\n",
       "      (1): BatchNorm2d(128, eps=1e-05, momentum=0.1, affine=True, track_running_stats=True)\n",
       "      (2): ReLU(inplace)\n",
       "    )\n",
       "  )\n",
       "  (decode_conv4): Sequential(\n",
       "    (0): Sequential(\n",
       "      (0): Conv2d(256, 256, kernel_size=(5, 5), stride=(1, 1), padding=(2, 2), groups=256, bias=False)\n",
       "      (1): BatchNorm2d(256, eps=1e-05, momentum=0.1, affine=True, track_running_stats=True)\n",
       "      (2): ReLU(inplace)\n",
       "    )\n",
       "    (1): Sequential(\n",
       "      (0): Conv2d(256, 64, kernel_size=(1, 1), stride=(1, 1), bias=False)\n",
       "      (1): BatchNorm2d(64, eps=1e-05, momentum=0.1, affine=True, track_running_stats=True)\n",
       "      (2): ReLU(inplace)\n",
       "    )\n",
       "  )\n",
       "  (decode_conv5): Sequential(\n",
       "    (0): Sequential(\n",
       "      (0): Conv2d(128, 128, kernel_size=(5, 5), stride=(1, 1), padding=(2, 2), groups=128, bias=False)\n",
       "      (1): BatchNorm2d(128, eps=1e-05, momentum=0.1, affine=True, track_running_stats=True)\n",
       "      (2): ReLU(inplace)\n",
       "    )\n",
       "    (1): Sequential(\n",
       "      (0): Conv2d(128, 32, kernel_size=(1, 1), stride=(1, 1), bias=False)\n",
       "      (1): BatchNorm2d(32, eps=1e-05, momentum=0.1, affine=True, track_running_stats=True)\n",
       "      (2): ReLU(inplace)\n",
       "    )\n",
       "  )\n",
       "  (decode_conv6): Sequential(\n",
       "    (0): Conv2d(35, 3, kernel_size=(1, 1), stride=(1, 1), bias=False)\n",
       "    (1): BatchNorm2d(3, eps=1e-05, momentum=0.1, affine=True, track_running_stats=True)\n",
       "    (2): Sigmoid()\n",
       "  )\n",
       ")"
      ]
     },
     "execution_count": 12,
     "metadata": {},
     "output_type": "execute_result"
    }
   ],
   "source": [
    "model = MobileNetSkipConcat(3,pretrained=False)\n",
    "# model.load_state_dict(torch.load('unet_fast.pt'))\n",
    "model.to(device)"
   ]
  },
  {
   "cell_type": "code",
   "execution_count": 22,
   "metadata": {},
   "outputs": [],
   "source": [
    "vgg =torchvision.models.vgg11(pretrained=True)\n",
    "vgg = vgg.features.to(device)"
   ]
  },
  {
   "cell_type": "markdown",
   "metadata": {},
   "source": [
    "### Optimizaer Loss"
   ]
  },
  {
   "cell_type": "code",
   "execution_count": 13,
   "metadata": {},
   "outputs": [],
   "source": [
    "\n",
    "L1loss = torch.nn.L1Loss(reduction='mean')\n",
    "MSEloss = torch.nn.MSELoss(reduction='mean')\n",
    "\n",
    "optimizer = torch.optim.Adam(model.parameters())\n",
    "\n",
    "class ST_loss(nn.Module):\n",
    "    def __init__(self, Lambda=0.3):\n",
    "        super(ST_loss, self).__init__()\n",
    "        self.conv_x = nn.Conv2d(3, 1, kernel_size=3, stride=1, padding=1)\n",
    "        self.conv_y = nn.Conv2d(3, 1, kernel_size=3, stride=1, padding=1)\n",
    "        conv_x = np.array([[[-1.0,0,1], [-2,0,2], [-1,0,1]],[[-1.0,0,1], [-2,0,2], [-1,0,1]],[[-1.0,0,1], [-2,0,2], [-1,0,1]]])\n",
    "        conv_y = np.array([[[-1.0,-2,-1], [0,0,0], [1,2,1]],[[-1.0,-2,-1], [0,0,0], [1,2,1]],[[-1.0,-2,-1], [0,0,0], [1,2,1]]])\n",
    "        self.conv_x.weight = nn.Parameter(torch.from_numpy(conv_x).float().unsqueeze(0))\n",
    "        self.conv_y.weight = nn.Parameter(torch.from_numpy(conv_y).float().unsqueeze(0))\n",
    "        self.Lambda = Lambda\n",
    "    def forward(self, input):\n",
    "        grd_x = self.conv_x(input)\n",
    "        grd_y = self.conv_y(input)\n",
    "        out = torch.sqrt(grd_x**2 + grd_y**2) / 2\n",
    "        h, w = out.shape[2], out.shape[3]\n",
    "        out[:, :, [0, h-1], :] = 0\n",
    "        out[:, :, :, [0, w-1]] = 0\n",
    "        return out\n",
    "st_loss = ST_loss().to(device)"
   ]
  },
  {
   "cell_type": "code",
   "execution_count": 28,
   "metadata": {},
   "outputs": [],
   "source": [
    "from tensorboardX import SummaryWriter\n",
    "writer = SummaryWriter()\n"
   ]
  },
  {
   "cell_type": "markdown",
   "metadata": {},
   "source": [
    "### Dataloader "
   ]
  },
  {
   "cell_type": "code",
   "execution_count": 16,
   "metadata": {},
   "outputs": [],
   "source": [
    "dataloader = DataLoader(dataset, batch_size=16,\n",
    "                        shuffle=True, num_workers=4)\n"
   ]
  },
  {
   "cell_type": "markdown",
   "metadata": {},
   "source": [
    "### Train Loop"
   ]
  },
  {
   "cell_type": "code",
   "execution_count": 30,
   "metadata": {
    "scrolled": true
   },
   "outputs": [],
   "source": [
    "num_image = len(df)\n",
    "num_batch = 5\n",
    "itercount = 0\n",
    "for b in range(num_batch):\n",
    "    for i,data in enumerate(dataloader):\n",
    "        \n",
    "        sample = data['low'].to(device)\n",
    "        label  = data['high'].to(device)\n",
    "        full = dataset_full[i]\n",
    "        full_label = full['label'].unsqueeze(0).to(device)\n",
    "        full_input = full['input'].unsqueeze(0).to(device)\n",
    "        \n",
    "        out = model(sample)\n",
    "        out_full = model(full_input)\n",
    "        \n",
    "\n",
    "        pixle_loss_patch = MSEloss(out,label)\n",
    "        pixle_loss_full = MSEloss(out_full,full_label)\n",
    "        loss_st = MSEloss(st_loss(out),st_loss(label))\n",
    "        loss_vgg = MSEloss(vgg(out),vgg(label))\n",
    "        loss =  0.1*pixle_loss_patch+pixle_loss_full+0.1*loss_st+loss_vgg\n",
    "        \n",
    "        \n",
    "        \n",
    "        \n",
    "        optimizer.zero_grad()\n",
    "        loss.backward()\n",
    "        optimizer.step()\n",
    "        itercount = itercount+1\n",
    "        \n",
    "        \n",
    "        if i%1000==0:\n",
    "            x = torch.cat((sample,out,label),dim=0)\n",
    "            x = vutils.make_grid(x, normalize=True, scale_each=True)\n",
    "            writer.add_image('Sample : Out : Ground', x, itercount)\n",
    "\n",
    "            \n",
    "            y = torch.cat((full_input,out_full,full_label),dim=0)\n",
    "            y = vutils.make_grid(y, normalize=True, scale_each=True)\n",
    "            writer.add_image('Full', y, itercount)\n",
    "            \n",
    "            writer.add_scalar('data/pixel loss full', pixle_loss_full.item(),itercount)\n",
    "            writer.add_scalar('data/pixel loss_patch', pixle_loss_patch.item(),itercount)\n",
    "            writer.add_scalar('data/loss_st', loss_st.item(),itercount)\n",
    "            writer.add_scalar('data/loss_vgg', loss_vgg.item(),itercount)\n",
    "            \n",
    "            im = Image.open('4.jpg').convert('RGB')\n",
    "            im = ToTensor_Test(im).unsqueeze(0).to(device)\n",
    "\n",
    "            sample = model(im)\n",
    "            x = vutils.make_grid(sample, normalize=True, scale_each=True)\n",
    "            writer.add_image('Test', x, itercount)"
   ]
  },
  {
   "cell_type": "code",
   "execution_count": 31,
   "metadata": {},
   "outputs": [],
   "source": [
    "torch.save(model.state_dict(),'fast_depth.pt')"
   ]
  },
  {
   "cell_type": "code",
   "execution_count": null,
   "metadata": {},
   "outputs": [],
   "source": []
  }
 ],
 "metadata": {
  "kernelspec": {
   "display_name": "Python 3",
   "language": "python",
   "name": "python3"
  },
  "language_info": {
   "codemirror_mode": {
    "name": "ipython",
    "version": 3
   },
   "file_extension": ".py",
   "mimetype": "text/x-python",
   "name": "python",
   "nbconvert_exporter": "python",
   "pygments_lexer": "ipython3",
   "version": "3.5.2"
  }
 },
 "nbformat": 4,
 "nbformat_minor": 2
}
